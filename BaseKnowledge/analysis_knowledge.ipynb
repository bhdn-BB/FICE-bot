{
 "cells": [
  {
   "metadata": {
    "ExecuteTime": {
     "end_time": "2025-09-02T07:14:02.357862Z",
     "start_time": "2025-09-02T07:14:00.965806Z"
    }
   },
   "cell_type": "code",
   "source": "import pandas as pd",
   "id": "d8cf8a418a0438ba",
   "outputs": [],
   "execution_count": 2
  },
  {
   "cell_type": "code",
   "id": "initial_id",
   "metadata": {
    "collapsed": true,
    "ExecuteTime": {
     "end_time": "2025-09-02T07:17:48.832106Z",
     "start_time": "2025-09-02T07:17:48.824154Z"
    }
   },
   "source": [
    "KNOWLEDGE_PATH = 'knowledge.txt'\n",
    "with open(KNOWLEDGE_PATH, \"r\", encoding=\"utf-8\") as f:\n",
    "    text = f.read()\n",
    "knowledge_list = text.split('\\n\\n')\n",
    "knowledge_list"
   ],
   "outputs": [
    {
     "data": {
      "text/plain": [
       "['Онлайн АбітФест, ось посилання- https://www.youtube.com/watch?v=_vobw-X7HYs або\\nhttps://www.youtube.com/watch?v=bf2liE2qn14&t=8838s, у цих записах є відповіді на питання - спеціальності в КПІ,\\nяк вступити на бюджет, як рахувати конкурсний бал, академічна мобільність, про дистанційне навчання на ФІОТ',\n",
       " '\\nна ФІОТ реалізовано 3 спеціальності F2- Інженерія програмного забезпечення,\\nF6 -  Інформаційні системи та технології та F7- Комп’ютерні системи та мережі.',\n",
       " '\\nДля F2 є дві кафедри: Інженерія Програмного Забезпечення Комп’ютерних Систем (ІПЗКС) та\\nІнженерія програмного забезпечення інформаційних систем (ІПЗІС).\\nОсь посилання, де можна детальніше ознайомитись, що там вчать, які предмети і викладачі:\\nдля ІПЗІС - https://medium.com/@mpro1195/%D1%96%D0%BD%D0%B6%D0%B5%D0%BD%D0%B5%D1%80%D1%96%D1%8F-%D0%BF%D1%80%D0%BE%D0%B3%D1%80%D0%B0%D0%BC%D0%BD%D0%BE%D0%B3%D0%BE-%D0%B7%D0%B0%D0%B1%D0%B5%D0%B7%D0%BF%D0%B5%D1%87%D0%B5%D0%BD%D0%BD%D1%8F-%D1%96%D0%BD%D1%84%D0%BE%D1%80%D0%BC%D0%B0%D1%86%D1%96%D0%B9%D0%BD%D0%B8%D1%85-%D1%81%D0%B8%D1%81%D1%82%D0%B5%D0%BC-f61a97dc49c3\\nдля ІПЗКС - https://medium.com/@marija.tchernishowa/%D0%B3%D0%B0%D0%B9%D0%B4-%D1%84%D1%96%D0%BE%D1%82-f2-%D1%96%D0%BF%D0%B7-%D0%BA%D0%BE%D0%BC%D0%BF%D1%8E%D1%82%D0%B5%D1%80%D0%BD%D0%B8%D1%85-%D1%81%D0%B8%D1%81%D1%82%D0%B5%D0%BC-758998eba84fhttps://medium.com/@marija.tchernishowa/%D0%B3%D0%B0%D0%B9%D0%B4-%D1%84%D1%96%D0%BE%D1%82-f2-%D1%96%D0%BF%D0%B7-%D0%BA%D0%BE%D0%BC%D0%BF%D1%8E%D1%82%D0%B5%D1%80%D0%BD%D0%B8%D1%85-%D1%81%D0%B8%D1%81%D1%82%D0%B5%D0%BC-758998eba84f',\n",
       " '\\nДля F6 є три кафедри: Інформаційні управляючі системи та технології (ІУСТ),\\nІнтегровані інформаційні системи (ІІС), Інформаційне забезпечення роботехнічних систем (ІЗРС).\\nОсь посилання, де можна детальніше ознайомитись, що там вчать, які предмети і викладачі:\\nдля ІУСТ - https://medium.com/@shapovalov3334/f6-%D1%96%D0%BD%D1%84%D0%BE%D1%80%D0%BC%D0%B0%D1%86%D1%96%D0%B9%D0%BD%D1%96-%D1%83%D0%BF%D1%80%D0%B0%D0%B2%D0%BB%D1%8F%D1%8E%D1%87%D1%96-%D1%81%D0%B8%D1%81%D1%82%D0%B5%D0%BC%D0%B8-%D1%82%D0%B0-%D1%82%D0%B5%D1%85%D0%BD%D0%BE%D0%BB%D0%BE%D0%B3%D1%96%D1%97-7ad7db9d3c52\\nдля ІІС - https://medium.com/@semashko.oleksandr/f6-%D1%96%D0%BD%D1%82%D0%B5%D0%B3%D1%80%D0%BE%D0%B2%D0%B0%D0%BD%D1%96-%D1%96%D0%BD%D1%84%D0%BE%D1%80%D0%BC%D0%B0%D1%86%D1%96%D0%B9%D0%BD%D1%96-%D1%81%D0%B8%D1%81%D1%82%D0%B5%D0%BC%D0%B8-ef1aab957d4c\\nдля ІЗРС - https://medium.com/@hurevych.artem/f6-%D1%96%D0%B7%D1%80%D1%81-8e43398b1d5f?source=user_profile_page---------0-------------a93dce9353f5----------------------',\n",
       " '\\nДля F7 є реалізація на кафедрі Комп’ютерні системи та мережі (КСМ),\\nОсь посилання, де можна детальніше ознайомитись, що там вчать, які предмети і викладачі:\\nдля КСМ - https://medium.com/@deykalo.vladyslav/f7-%D0%BA%D0%BE%D0%BC%D0%BF%D1%8E%D1%82%D0%B5%D1%80%D0%BD%D1%96-%D1%81%D0%B8%D1%81%D1%82%D0%B5%D0%BC%D0%B8-%D1%82%D0%B0-%D0%BC%D0%B5%D1%80%D0%B5%D0%B6%D1%96-589074a85d8e',\n",
       " '\\nОсь тут гайд про спеціальності, які є на ФІОТ - https://medium.com/@navrotskyi.maksym/%D0%BE%D1%81%D0%B2%D1%96%D1%82%D0%BD%D1%96-%D0%BF%D1%80%D0%BE%D0%B3%D1%80%D0%B0%D0%BC%D0%B8-%D1%84%D1%96%D0%BE%D1%82-836566884849',\n",
       " '\\nОсь тут сервіс, який рахує конкурсний бал при вступі - https://kbc.edbo.gov.ua/',\n",
       " '\\nОсь тут гайд про минулорічні прохідні бали на ФІОТ - https://medium.com/@marija.tchernishowa/%D0%BF%D1%80%D0%BE%D1%85%D1%96%D0%B4%D0%BD%D1%96-%D0%B1%D0%B0%D0%BB%D0%B8-%D0%BC%D0%B8%D0%BD%D1%83%D0%BB%D0%B8%D1%85-%D1%80%D0%BE%D0%BA%D1%96%D0%B2-%D0%BC%D1%96%D0%BD%D1%96%D0%BC%D0%B0%D0%BB%D1%8C%D0%BD%D0%B8%D0%B9-%D0%BF%D1%80%D0%BE%D1%85%D1%96%D0%B4%D0%BD%D0%B8%D0%B9-458b2f0edd8e',\n",
       " '\\nОсь тут про вартість навчання в КПІ - https://drive.google.com/file/d/1H6Tu3-Br89hJNIxo76pJOVjewjZTwKL7/view',\n",
       " '\\nОсь тут вимоги до мотиваційного листа про вступі - https://pk.kpi.ua/motivation-letter/',\n",
       " '\\nОсь тут гайд про гуртожитки в КПІ - https://medium.com/@dnsdudus/%D0%B3%D1%83%D1%80%D1%82%D0%BE%D0%B6%D0%B8%D1%82%D0%BA%D0%B8-%D0%BA%D0%BF%D1%96-a2d52c88008c',\n",
       " '\\nОсь тут гайд про те, що варто вчити перед вступом на ФІОТ - https://medium.com/@mpro1195/%D1%89%D0%BE-%D0%B2%D0%B8%D0%B2%D1%87%D0%B8%D1%82%D0%B8-%D0%B7%D0%B0-%D0%BB%D1%96%D1%82%D0%BE-%D0%BF%D0%B5%D1%80%D0%B5%D0%B4-%D0%B2%D1%81%D1%82%D1%83%D0%BF%D0%BE%D0%BC-%D0%BD%D0%B0-%D0%BF%D1%80%D0%BE%D0%B3%D1%80%D0%B0%D0%BC%D1%96%D1%81%D1%82%D0%B0-d0f97ebf4874',\n",
       " '\\nОсь тут гайд про те, який ноутбук краще вибрати для навчання на ФІОТ - https://medium.com/@dnsdudus/%D0%B3%D0%B0%D0%B9%D0%B4-%D0%BD%D0%B0-%D0%BD%D0%BE%D1%83%D1%82%D0%B1%D1%83%D0%BA-cff9e17b8d8a',\n",
       " '\\nОсь тут гайд про БЗВП - https://medium.com/@hurevych.artem/%D0%B1%D0%B7%D0%B2%D0%BF-%D1%86%D0%B5-%D0%BD%D0%BE%D0%B2%D0%B0-%D0%B4%D0%B8%D1%81%D1%86%D0%B8%D0%BF%D0%BB%D1%96%D0%BD%D0%B0-%D1%8F%D0%BA%D0%B0-%D0%B7%D1%8F%D0%B2%D0%B8%D1%82%D1%8C%D1%81%D1%8F-%D0%B7-2025-%D1%80%D0%BE%D0%BA%D1%83-%D0%B2%D0%BE%D0%BD%D0%B0-%D1%94-%D0%BE%D0%B1%D0%BE%D0%B2-%D1%8F%D0%B7%D0%BA%D0%BE%D0%B2%D0%BE%D1%8E-%D0%B4%D0%BB%D1%8F-%D0%B2%D1%81%D1%96%D1%85-%D1%83%D0%BD%D1%96%D0%B2%D0%B5%D1%80%D1%81%D0%B8%D1%82%D0%B5%D1%82%D1%96%D0%B2-f077ce7d16cc',\n",
       " '\\nОсь тут гайд про гуртки, які є реалізовує ФІОТ в КПІ - https://medium.com/@melnyk.artem1/%D0%B3%D1%83%D1%80%D0%BA-73db50e1d2bb',\n",
       " '\\nОсь тут гайд про стипендії і умови - https://medium.com/@shapovalov3334/%D0%B0%D0%BA%D0%B0%D0%B4%D0%B5%D0%BC%D1%96%D1%87%D0%BD%D0%B0-%D1%81%D1%82%D0%B8%D0%BF%D0%B5%D0%BD%D0%B4%D1%96%D1%8F-09c58e7ce93c']"
      ]
     },
     "execution_count": 9,
     "metadata": {},
     "output_type": "execute_result"
    }
   ],
   "execution_count": 9
  },
  {
   "metadata": {
    "ExecuteTime": {
     "end_time": "2025-09-02T07:17:56.950305Z",
     "start_time": "2025-09-02T07:17:56.941084Z"
    }
   },
   "cell_type": "code",
   "source": [
    "lengths_knowledge = [len(current_lines) for current_lines in knowledge_list]\n",
    "print(f'Max block length: {max(lengths_knowledge)}')\n",
    "print(f'Number of lines: {len(lengths_knowledge)}')"
   ],
   "id": "937c004f0fe16df4",
   "outputs": [
    {
     "name": "stdout",
     "output_type": "stream",
     "text": [
      "Max block length: 1076\n",
      "Number of lines: 16\n"
     ]
    }
   ],
   "execution_count": 10
  },
  {
   "metadata": {
    "ExecuteTime": {
     "end_time": "2025-09-02T07:17:58.899667Z",
     "start_time": "2025-09-02T07:17:58.682380Z"
    }
   },
   "cell_type": "code",
   "source": [
    "lengths_dataframe = pd.DataFrame(lengths_knowledge)\n",
    "lengths_dataframe.plot(kind='bar')"
   ],
   "id": "641bcef316ae4ea5",
   "outputs": [
    {
     "data": {
      "text/plain": [
       "<Axes: >"
      ]
     },
     "execution_count": 11,
     "metadata": {},
     "output_type": "execute_result"
    },
    {
     "data": {
      "text/plain": [
       "<Figure size 640x480 with 1 Axes>"
      ],
      "image/png": "[encoded data removed]"
     },
     "metadata": {},
     "output_type": "display_data"
    }
   ],
   "execution_count": 11
  }
 ],
 "metadata": {
  "kernelspec": {
   "display_name": "Python 3",
   "language": "python",
   "name": "python3"
  },
  "language_info": {
   "codemirror_mode": {
    "name": "ipython",
    "version": 2
   },
   "file_extension": ".py",
   "mimetype": "text/x-python",
   "name": "python",
   "nbconvert_exporter": "python",
   "pygments_lexer": "ipython2",
   "version": "2.7.6"
  }
 },
 "nbformat": 4,
 "nbformat_minor": 5
}
